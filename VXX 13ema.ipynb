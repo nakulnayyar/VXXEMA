{
 "metadata": {
  "name": "",
  "signature": "sha256:9287035d429278bc410064f81630ca83bf0ce8f8fc0ae93efc916cb1ef7bdc93"
 },
 "nbformat": 3,
 "nbformat_minor": 0,
 "worksheets": [
  {
   "cells": [
    {
     "cell_type": "code",
     "collapsed": false,
     "input": [
      "%pylab inline\n",
      "%precision %.2f\n",
      "import tradingWithPython.lib.yahooFinance as yf\n",
      "from tradingWithPython import sharpe\n",
      "import pandas as pd\n",
      "from pandas import DataFrame\n",
      "import pandas.io.data as web\n",
      "import csv\n",
      "import urllib2\n",
      "import ffn"
     ],
     "language": "python",
     "metadata": {},
     "outputs": [
      {
       "output_type": "stream",
       "stream": "stdout",
       "text": [
        "Populating the interactive namespace from numpy and matplotlib\n"
       ]
      }
     ],
     "prompt_number": 1
    },
    {
     "cell_type": "code",
     "collapsed": false,
     "input": [
      "VXXcl = yf.getHistoricData('VXX')[['adj_close']]\n",
      "VIXcl = yf.getHistoricData('^VIX')[['adj_close']]\n"
     ],
     "language": "python",
     "metadata": {},
     "outputs": [
      {
       "output_type": "stream",
       "stream": "stdout",
       "text": [
        "Got 1750 days of data\n",
        "Got 6560 days of data"
       ]
      },
      {
       "output_type": "stream",
       "stream": "stdout",
       "text": [
        "\n"
       ]
      }
     ],
     "prompt_number": 2
    },
    {
     "cell_type": "code",
     "collapsed": false,
     "input": [
      "X = DataFrame({'VXX':VXXcl['adj_close'],'VIX':VIXcl['adj_close']})\n",
      "X = X.dropna()\n",
      "X.head()"
     ],
     "language": "python",
     "metadata": {},
     "outputs": [
      {
       "html": [
        "<div style=\"max-height:1000px;max-width:1500px;overflow:auto;\">\n",
        "<table border=\"1\" class=\"dataframe\">\n",
        "  <thead>\n",
        "    <tr style=\"text-align: right;\">\n",
        "      <th></th>\n",
        "      <th>VIX</th>\n",
        "      <th>VXX</th>\n",
        "    </tr>\n",
        "  </thead>\n",
        "  <tbody>\n",
        "    <tr>\n",
        "      <th>2009-01-30</th>\n",
        "      <td>44.840000</td>\n",
        "      <td>6690.978203</td>\n",
        "    </tr>\n",
        "    <tr>\n",
        "      <th>2009-02-02</th>\n",
        "      <td>45.520000</td>\n",
        "      <td>6669.864844</td>\n",
        "    </tr>\n",
        "    <tr>\n",
        "      <th>2009-02-03</th>\n",
        "      <td>43.060001</td>\n",
        "      <td>6357.644968</td>\n",
        "    </tr>\n",
        "    <tr>\n",
        "      <th>2009-02-04</th>\n",
        "      <td>43.849998</td>\n",
        "      <td>6381.317077</td>\n",
        "    </tr>\n",
        "    <tr>\n",
        "      <th>2009-02-05</th>\n",
        "      <td>43.730000</td>\n",
        "      <td>6342.289532</td>\n",
        "    </tr>\n",
        "  </tbody>\n",
        "</table>\n",
        "</div>"
       ],
       "metadata": {},
       "output_type": "pyout",
       "prompt_number": 3,
       "text": [
        "                  VIX          VXX\n",
        "2009-01-30  44.840000  6690.978203\n",
        "2009-02-02  45.520000  6669.864844\n",
        "2009-02-03  43.060001  6357.644968\n",
        "2009-02-04  43.849998  6381.317077\n",
        "2009-02-05  43.730000  6342.289532"
       ]
      }
     ],
     "prompt_number": 3
    },
    {
     "cell_type": "code",
     "collapsed": false,
     "input": [
      "stratData = pd.DataFrame(index=X.index)\n",
      "stratData['13ema'] = pd.ewma(VXXcl, 13)\n",
      "stratData = stratData.dropna()\n",
      "stratData['diff'] = VXXcl['adj_close'] - VXXcl['adj_close'].shift(1)\n",
      "\n",
      "idx = VXXcl['adj_close'].shift(1) < stratData['13ema'].shift(1)\n",
      "idx[0] = False\n",
      "\n",
      "stratData['pos']= 0\n",
      "stratData['pos'][idx] = -1\n",
      "\n",
      "#Commission\n",
      "idx2 = stratData['pos'].shift(1) != stratData['pos']\n",
      "idx2[0] = 0\n",
      "stratData['commish'] = 0\n",
      "stratData['commish'][idx2] = -.01\n",
      "\n",
      "\n",
      "stratData['pnl'] = stratData['pos']*(VXXcl.pct_change()*100 - stratData['commish'])\n",
      "stratData['cumsum'] = stratData['pnl'].cumsum()\n",
      "stratData['pnl'][0] = 100\n",
      "#stratData.head()\n",
      "stratData['pnl'].cumsum().plot()\n",
      "#print stratData['commish']"
     ],
     "language": "python",
     "metadata": {},
     "outputs": [
      {
       "output_type": "stream",
       "stream": "stderr",
       "text": [
        "-c:10: SettingWithCopyWarning: \n",
        "A value is trying to be set on a copy of a slice from a DataFrame\n",
        "\n",
        "See the the caveats in the documentation: http://pandas.pydata.org/pandas-docs/stable/indexing.html#indexing-view-versus-copy\n",
        "-c:16: SettingWithCopyWarning: \n",
        "A value is trying to be set on a copy of a slice from a DataFrame\n",
        "\n",
        "See the the caveats in the documentation: http://pandas.pydata.org/pandas-docs/stable/indexing.html#indexing-view-versus-copy\n",
        "C:\\Users\\nnayyar\\Anaconda\\lib\\site-packages\\pandas\\core\\frame.py:3176: FutureWarning: TimeSeries broadcasting along DataFrame index by default is deprecated. Please use DataFrame.<op> to explicitly broadcast arithmetic operations along the index\n",
        "  FutureWarning)\n",
        "-c:21: SettingWithCopyWarning: \n",
        "A value is trying to be set on a copy of a slice from a DataFrame\n",
        "\n",
        "See the the caveats in the documentation: http://pandas.pydata.org/pandas-docs/stable/indexing.html#indexing-view-versus-copy\n"
       ]
      },
      {
       "metadata": {},
       "output_type": "pyout",
       "prompt_number": 4,
       "text": [
        "<matplotlib.axes._subplots.AxesSubplot at 0x16e277f0>"
       ]
      },
      {
       "metadata": {},
       "output_type": "display_data",
       "png": "[encoded data removed]",
       "text": [
        "<matplotlib.figure.Figure at 0x16e272e8>"
       ]
      }
     ],
     "prompt_number": 4
    },
    {
     "cell_type": "code",
     "collapsed": false,
     "input": [
      "#Max DrawDown\n",
      "def create_drawdowns(equity_curve):\n",
      "\n",
      "    hwm = [0]\n",
      "    eq_idx = equity_curve.index\n",
      "    drawdown = pd.Series(index = eq_idx)\n",
      "    duration = pd.Series(index = eq_idx)\n",
      "    \n",
      "    \n",
      "    # Loop over the index range\n",
      "    for t in range(1, len(eq_idx)):\n",
      "        cur_hwm = max(hwm[t-1], equity_curve[t])\n",
      "        hwm.append(cur_hwm)\n",
      "        drawdown[t]= hwm[t] - equity_curve[t]\n",
      "        duration[t]= 0 if drawdown[t] == 0 else duration[t-1] + 1\n",
      "        \n",
      "    \n",
      "    #return drawdown.max(), duration.max() Sharpe\n",
      "    \n",
      "    return drawdown.max(), duration.max() #DrawDown"
     ],
     "language": "python",
     "metadata": {},
     "outputs": [],
     "prompt_number": 5
    },
    {
     "cell_type": "code",
     "collapsed": false,
     "input": [
      "#print(stratData['pnl'].cumsum()[1565])\n",
      "stats = stratData['pnl'].cumsum()\n",
      "stats = stats.calc_stats()\n",
      "stats.display()\n",
      "ax = stats.prices.to_drawdown_series().plot()\n",
      "#print create_drawdowns(stratData['pnl'])\n",
      "print sharpe(stratData['pnl'])\n",
      "print (stratData['commish']!=0).sum()"
     ],
     "language": "python",
     "metadata": {},
     "outputs": [
      {
       "output_type": "stream",
       "stream": "stdout",
       "text": [
        "Stats for pnl from 2009-01-30 00:00:00 - 2016-01-12 00:00:00\n",
        "Annual risk-free rate considered: 0.00%\n",
        "Summary:\n",
        "Total Return      Sharpe  CAGR    Max Drawdown\n",
        "--------------  --------  ------  --------------\n",
        "317.36%             1.19  22.83%  -26.18%\n",
        "\n",
        "Annualized Returns:\n",
        "mtd    3m      6m      ytd    1y      3y     5y     10y     incep.\n",
        "-----  ------  ------  -----  ------  -----  -----  ------  --------\n",
        "0.00%  -7.37%  -5.95%  0.00%  -1.99%  0.96%  6.22%  22.83%  22.83%\n",
        "\n",
        "Periodic:\n",
        "        daily    monthly    yearly\n",
        "------  -------  ---------  --------\n",
        "sharpe  1.19     1.16       0.58\n",
        "mean    22.36%   22.42%     15.22%\n",
        "vol     18.76%   19.34%     26.17%\n",
        "skew    -0.71    -0.09      1.72\n",
        "kurt    7.92     3.01       2.52\n",
        "best    6.45%    18.78%     67.71%\n",
        "worst   -8.60%   -20.42%    -2.85%\n",
        "\n",
        "Drawdowns:\n",
        "max      avg       # days\n",
        "-------  ------  --------\n",
        "-26.18%  -3.37%     28.61\n",
        "\n",
        "Misc:\n",
        "---------------  ------\n",
        "avg. up month    5.09%\n",
        "avg. down month  -2.87%\n",
        "up year %        57.14%\n",
        "12m up %         83.78%\n",
        "---------------  ------\n",
        "0.994888403914"
       ]
      },
      {
       "output_type": "stream",
       "stream": "stdout",
       "text": [
        "\n",
        "148\n"
       ]
      },
      {
       "metadata": {},
       "output_type": "display_data",
       "png": "[encoded data removed]",
       "text": [
        "<matplotlib.figure.Figure at 0xcc70668>"
       ]
      }
     ],
     "prompt_number": 6
    },
    {
     "cell_type": "code",
     "collapsed": false,
     "input": [],
     "language": "python",
     "metadata": {},
     "outputs": []
    }
   ],
   "metadata": {}
  }
 ]
}